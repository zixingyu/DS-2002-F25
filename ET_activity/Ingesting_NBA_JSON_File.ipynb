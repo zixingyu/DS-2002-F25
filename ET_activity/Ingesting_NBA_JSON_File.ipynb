{
 "cells": [
  {
   "cell_type": "markdown",
   "metadata": {},
   "source": [
    "# Data Acquisition via File Ingestion (JSON Format)"
   ]
  },
  {
   "cell_type": "markdown",
   "metadata": {},
   "source": [
    "---"
   ]
  },
  {
   "cell_type": "markdown",
   "metadata": {},
   "source": [
    "## Setup and Ingestion"
   ]
  },
  {
   "cell_type": "markdown",
   "metadata": {},
   "source": [
    "### Import Modules"
   ]
  },
  {
   "cell_type": "code",
   "execution_count": 1,
   "metadata": {},
   "outputs": [
    {
     "name": "stdout",
     "output_type": "stream",
     "text": [
      "Modules imported.\n"
     ]
    }
   ],
   "source": [
    "# Import necessary modules: \n",
    "# json for handling native JSON file reading.\n",
    "# pandas for data ingestion, manipulation, and analysis.\n",
    "import json\n",
    "import pandas as pd\n",
    "from datetime import datetime\n",
    "\n",
    "print(\"Modules imported.\")"
   ]
  },
  {
   "cell_type": "markdown",
   "metadata": {},
   "source": [
    "### Define File Path and Ingestion Method\n",
    "This cell defines the file path and uses the robust Python method for loading a standard JSON file (a list of records) into a native Python list."
   ]
  },
  {
   "cell_type": "code",
   "execution_count": 3,
   "metadata": {},
   "outputs": [
    {
     "name": "stdout",
     "output_type": "stream",
     "text": [
      "File 'nba_records.json' successfully loaded into a Python list.\n",
      "Loaded 30 records.\n"
     ]
    }
   ],
   "source": [
    "# Define the path to the JSON file\n",
    "FILE_PATH = \"nba_records.json\" \n",
    "\n",
    "# --- 1. Load the JSON data from the file into a Python list ---\n",
    "try:\n",
    "    with open(FILE_PATH, 'r') as file_pointer:\n",
    "        # json.load() is used because the file is a standard list of records\n",
    "        nba_data_list = json.load(file_pointer)\n",
    "    \n",
    "    print(f\"File '{FILE_PATH}' successfully loaded into a Python list.\")\n",
    "    print(f\"Loaded {len(nba_data_list)} records.\")\n",
    "    \n",
    "except FileNotFoundError:\n",
    "    print(f\"ERROR: File not found at {FILE_PATH}. Please ensure the file is in the correct directory.\")"
   ]
  },
  {
   "cell_type": "markdown",
   "metadata": {},
   "source": [
    "### Take a Look at Some of the Raw Data"
   ]
  },
  {
   "cell_type": "code",
   "execution_count": 4,
   "metadata": {},
   "outputs": [
    {
     "data": {
      "text/plain": [
       "[{'TEAM_ID': '1610612744',\n",
       "  'TEAM_CITY': 'Golden State',\n",
       "  'TEAM_NAME': 'Warriors',\n",
       "  'TEAM_ABBREVIATION': 'GSW',\n",
       "  'TEAM_CODE': '',\n",
       "  'GP': 82,\n",
       "  'MIN': 48.7,\n",
       "  'PTS': 114.9,\n",
       "  'PTS_DRIVE': 14.9,\n",
       "  'FGP_DRIVE': 0.498,\n",
       "  'PTS_CLOSE': 16.7,\n",
       "  'FGP_CLOSE': 0.645,\n",
       "  'PTS_CATCH_SHOOT': 33.7,\n",
       "  'FGP_CATCH_SHOOT': 0.428,\n",
       "  'PTS_PULL_UP': 21.5,\n",
       "  'FGP_PULL_UP': 0.418,\n",
       "  'FGA_DRIVE': 11.0,\n",
       "  'FGA_CLOSE': 11.1,\n",
       "  'FGA_CATCH_SHOOT': 28.3,\n",
       "  'FGA_PULL_UP': 21.5,\n",
       "  'EFG_PCT': 0.563,\n",
       "  'CFGM': 21.4,\n",
       "  'CFGA': 44.8,\n",
       "  'CFGP': 0.478,\n",
       "  'UFGM': 21.2,\n",
       "  'UFGA': 42.5,\n",
       "  'UFGP': 0.497,\n",
       "  'CFG3M': 2.3,\n",
       "  'CFG3A': 6.3,\n",
       "  'CFG3P': 0.363,\n",
       "  'UFG3M': 10.8,\n",
       "  'UFG3A': 25.3,\n",
       "  'UFG3P': 0.429},\n",
       " {'TEAM_ID': '1610612759',\n",
       "  'TEAM_CITY': 'San Antonio',\n",
       "  'TEAM_NAME': 'Spurs',\n",
       "  'TEAM_ABBREVIATION': 'SAS',\n",
       "  'TEAM_CODE': '',\n",
       "  'GP': 82,\n",
       "  'MIN': 48.3,\n",
       "  'PTS': 103.5,\n",
       "  'PTS_DRIVE': 14.8,\n",
       "  'FGP_DRIVE': 0.481,\n",
       "  'PTS_CLOSE': 17.8,\n",
       "  'FGP_CLOSE': 0.611,\n",
       "  'PTS_CATCH_SHOOT': 27.1,\n",
       "  'FGP_CATCH_SHOOT': 0.419,\n",
       "  'PTS_PULL_UP': 18.0,\n",
       "  'FGP_PULL_UP': 0.398,\n",
       "  'FGA_DRIVE': 11.8,\n",
       "  'FGA_CLOSE': 12.2,\n",
       "  'FGA_CATCH_SHOOT': 25.3,\n",
       "  'FGA_PULL_UP': 21.4,\n",
       "  'EFG_PCT': 0.526,\n",
       "  'CFGM': 21.8,\n",
       "  'CFGA': 43.1,\n",
       "  'CFGP': 0.506,\n",
       "  'UFGM': 18.3,\n",
       "  'UFGA': 39.8,\n",
       "  'UFGP': 0.46,\n",
       "  'CFG3M': 0.9,\n",
       "  'CFG3A': 2.6,\n",
       "  'CFG3P': 0.341,\n",
       "  'UFG3M': 6.1,\n",
       "  'UFG3A': 15.9,\n",
       "  'UFG3P': 0.381},\n",
       " {'TEAM_ID': '1610612739',\n",
       "  'TEAM_CITY': 'Cleveland',\n",
       "  'TEAM_NAME': 'Cavaliers',\n",
       "  'TEAM_ABBREVIATION': 'CLE',\n",
       "  'TEAM_CODE': '',\n",
       "  'GP': 82,\n",
       "  'MIN': 48.7,\n",
       "  'PTS': 104.3,\n",
       "  'PTS_DRIVE': 16.9,\n",
       "  'FGP_DRIVE': 0.481,\n",
       "  'PTS_CLOSE': 14.3,\n",
       "  'FGP_CLOSE': 0.622,\n",
       "  'PTS_CATCH_SHOOT': 28.2,\n",
       "  'FGP_CATCH_SHOOT': 0.394,\n",
       "  'PTS_PULL_UP': 18.6,\n",
       "  'FGP_PULL_UP': 0.36,\n",
       "  'FGA_DRIVE': 13.4,\n",
       "  'FGA_CLOSE': 9.7,\n",
       "  'FGA_CATCH_SHOOT': 25.2,\n",
       "  'FGA_PULL_UP': 22.7,\n",
       "  'EFG_PCT': 0.524,\n",
       "  'CFGM': 20.5,\n",
       "  'CFGA': 43.3,\n",
       "  'CFGP': 0.473,\n",
       "  'UFGM': 18.2,\n",
       "  'UFGA': 40.7,\n",
       "  'UFGP': 0.447,\n",
       "  'CFG3M': 1.7,\n",
       "  'CFG3A': 5.7,\n",
       "  'CFG3P': 0.299,\n",
       "  'UFG3M': 9.0,\n",
       "  'UFG3A': 23.9,\n",
       "  'UFG3P': 0.378}]"
      ]
     },
     "execution_count": 4,
     "metadata": {},
     "output_type": "execute_result"
    }
   ],
   "source": [
    "nba_data_list[0:3]"
   ]
  },
  {
   "cell_type": "markdown",
   "metadata": {},
   "source": [
    "### Convert to Pandas DataFrame\n",
    "This is the key step that transforms the raw Python list of dictionaries into a structured, tabular object for analysis."
   ]
  },
  {
   "cell_type": "code",
   "execution_count": 5,
   "metadata": {},
   "outputs": [
    {
     "name": "stdout",
     "output_type": "stream",
     "text": [
      "List converted into a DataFrame.\n",
      "DataFrame shape: (30, 33)\n",
      "\n",
      "First 3 rows of the full DataFrame:\n"
     ]
    },
    {
     "data": {
      "text/html": [
       "<div>\n",
       "<style scoped>\n",
       "    .dataframe tbody tr th:only-of-type {\n",
       "        vertical-align: middle;\n",
       "    }\n",
       "\n",
       "    .dataframe tbody tr th {\n",
       "        vertical-align: top;\n",
       "    }\n",
       "\n",
       "    .dataframe thead th {\n",
       "        text-align: right;\n",
       "    }\n",
       "</style>\n",
       "<table border=\"1\" class=\"dataframe\">\n",
       "  <thead>\n",
       "    <tr style=\"text-align: right;\">\n",
       "      <th></th>\n",
       "      <th>TEAM_ID</th>\n",
       "      <th>TEAM_CITY</th>\n",
       "      <th>TEAM_NAME</th>\n",
       "      <th>TEAM_ABBREVIATION</th>\n",
       "      <th>TEAM_CODE</th>\n",
       "      <th>GP</th>\n",
       "      <th>MIN</th>\n",
       "      <th>PTS</th>\n",
       "      <th>PTS_DRIVE</th>\n",
       "      <th>FGP_DRIVE</th>\n",
       "      <th>...</th>\n",
       "      <th>CFGP</th>\n",
       "      <th>UFGM</th>\n",
       "      <th>UFGA</th>\n",
       "      <th>UFGP</th>\n",
       "      <th>CFG3M</th>\n",
       "      <th>CFG3A</th>\n",
       "      <th>CFG3P</th>\n",
       "      <th>UFG3M</th>\n",
       "      <th>UFG3A</th>\n",
       "      <th>UFG3P</th>\n",
       "    </tr>\n",
       "  </thead>\n",
       "  <tbody>\n",
       "    <tr>\n",
       "      <th>0</th>\n",
       "      <td>1610612744</td>\n",
       "      <td>Golden State</td>\n",
       "      <td>Warriors</td>\n",
       "      <td>GSW</td>\n",
       "      <td></td>\n",
       "      <td>82</td>\n",
       "      <td>48.7</td>\n",
       "      <td>114.9</td>\n",
       "      <td>14.9</td>\n",
       "      <td>0.498</td>\n",
       "      <td>...</td>\n",
       "      <td>0.478</td>\n",
       "      <td>21.2</td>\n",
       "      <td>42.5</td>\n",
       "      <td>0.497</td>\n",
       "      <td>2.3</td>\n",
       "      <td>6.3</td>\n",
       "      <td>0.363</td>\n",
       "      <td>10.8</td>\n",
       "      <td>25.3</td>\n",
       "      <td>0.429</td>\n",
       "    </tr>\n",
       "    <tr>\n",
       "      <th>1</th>\n",
       "      <td>1610612759</td>\n",
       "      <td>San Antonio</td>\n",
       "      <td>Spurs</td>\n",
       "      <td>SAS</td>\n",
       "      <td></td>\n",
       "      <td>82</td>\n",
       "      <td>48.3</td>\n",
       "      <td>103.5</td>\n",
       "      <td>14.8</td>\n",
       "      <td>0.481</td>\n",
       "      <td>...</td>\n",
       "      <td>0.506</td>\n",
       "      <td>18.3</td>\n",
       "      <td>39.8</td>\n",
       "      <td>0.460</td>\n",
       "      <td>0.9</td>\n",
       "      <td>2.6</td>\n",
       "      <td>0.341</td>\n",
       "      <td>6.1</td>\n",
       "      <td>15.9</td>\n",
       "      <td>0.381</td>\n",
       "    </tr>\n",
       "    <tr>\n",
       "      <th>2</th>\n",
       "      <td>1610612739</td>\n",
       "      <td>Cleveland</td>\n",
       "      <td>Cavaliers</td>\n",
       "      <td>CLE</td>\n",
       "      <td></td>\n",
       "      <td>82</td>\n",
       "      <td>48.7</td>\n",
       "      <td>104.3</td>\n",
       "      <td>16.9</td>\n",
       "      <td>0.481</td>\n",
       "      <td>...</td>\n",
       "      <td>0.473</td>\n",
       "      <td>18.2</td>\n",
       "      <td>40.7</td>\n",
       "      <td>0.447</td>\n",
       "      <td>1.7</td>\n",
       "      <td>5.7</td>\n",
       "      <td>0.299</td>\n",
       "      <td>9.0</td>\n",
       "      <td>23.9</td>\n",
       "      <td>0.378</td>\n",
       "    </tr>\n",
       "  </tbody>\n",
       "</table>\n",
       "<p>3 rows × 33 columns</p>\n",
       "</div>"
      ],
      "text/plain": [
       "      TEAM_ID     TEAM_CITY  TEAM_NAME TEAM_ABBREVIATION TEAM_CODE  GP   MIN  \\\n",
       "0  1610612744  Golden State   Warriors               GSW            82  48.7   \n",
       "1  1610612759   San Antonio      Spurs               SAS            82  48.3   \n",
       "2  1610612739     Cleveland  Cavaliers               CLE            82  48.7   \n",
       "\n",
       "     PTS  PTS_DRIVE  FGP_DRIVE  ...   CFGP  UFGM  UFGA   UFGP  CFG3M  CFG3A  \\\n",
       "0  114.9       14.9      0.498  ...  0.478  21.2  42.5  0.497    2.3    6.3   \n",
       "1  103.5       14.8      0.481  ...  0.506  18.3  39.8  0.460    0.9    2.6   \n",
       "2  104.3       16.9      0.481  ...  0.473  18.2  40.7  0.447    1.7    5.7   \n",
       "\n",
       "   CFG3P  UFG3M  UFG3A  UFG3P  \n",
       "0  0.363   10.8   25.3  0.429  \n",
       "1  0.341    6.1   15.9  0.381  \n",
       "2  0.299    9.0   23.9  0.378  \n",
       "\n",
       "[3 rows x 33 columns]"
      ]
     },
     "metadata": {},
     "output_type": "display_data"
    }
   ],
   "source": [
    "# Convert the list of dictionaries directly into a Pandas DataFrame\n",
    "nba_df = pd.DataFrame(nba_data_list)\n",
    "\n",
    "print(\"List converted into a DataFrame.\")\n",
    "print(f\"DataFrame shape: {nba_df.shape}\")\n",
    "print(\"\\nFirst 3 rows of the full DataFrame:\")\n",
    "display(nba_df.head(3))"
   ]
  },
  {
   "cell_type": "markdown",
   "metadata": {},
   "source": [
    "---"
   ]
  },
  {
   "cell_type": "markdown",
   "metadata": {},
   "source": [
    "## Data Filtering and Analysis"
   ]
  },
  {
   "cell_type": "markdown",
   "metadata": {
    "tags": []
   },
   "source": [
    "### Filter Columns\n",
    "We filter the DataFrame to keep only the columns relevant for the current analysis: TEAM_CITY, TEAM_NAME, and PTS."
   ]
  },
  {
   "cell_type": "code",
   "execution_count": 6,
   "metadata": {},
   "outputs": [
    {
     "name": "stdout",
     "output_type": "stream",
     "text": [
      "DataFrame filtered to only display TEAM_CITY, TEAM_NAME, and PTS.\n"
     ]
    },
    {
     "data": {
      "text/html": [
       "<div>\n",
       "<style scoped>\n",
       "    .dataframe tbody tr th:only-of-type {\n",
       "        vertical-align: middle;\n",
       "    }\n",
       "\n",
       "    .dataframe tbody tr th {\n",
       "        vertical-align: top;\n",
       "    }\n",
       "\n",
       "    .dataframe thead th {\n",
       "        text-align: right;\n",
       "    }\n",
       "</style>\n",
       "<table border=\"1\" class=\"dataframe\">\n",
       "  <thead>\n",
       "    <tr style=\"text-align: right;\">\n",
       "      <th></th>\n",
       "      <th>TEAM_CITY</th>\n",
       "      <th>TEAM_NAME</th>\n",
       "      <th>PTS</th>\n",
       "    </tr>\n",
       "  </thead>\n",
       "  <tbody>\n",
       "    <tr>\n",
       "      <th>0</th>\n",
       "      <td>Golden State</td>\n",
       "      <td>Warriors</td>\n",
       "      <td>114.9</td>\n",
       "    </tr>\n",
       "    <tr>\n",
       "      <th>1</th>\n",
       "      <td>San Antonio</td>\n",
       "      <td>Spurs</td>\n",
       "      <td>103.5</td>\n",
       "    </tr>\n",
       "    <tr>\n",
       "      <th>2</th>\n",
       "      <td>Cleveland</td>\n",
       "      <td>Cavaliers</td>\n",
       "      <td>104.3</td>\n",
       "    </tr>\n",
       "    <tr>\n",
       "      <th>3</th>\n",
       "      <td>Los Angeles</td>\n",
       "      <td>Clippers</td>\n",
       "      <td>104.5</td>\n",
       "    </tr>\n",
       "    <tr>\n",
       "      <th>4</th>\n",
       "      <td>Oklahoma City</td>\n",
       "      <td>Thunder</td>\n",
       "      <td>110.2</td>\n",
       "    </tr>\n",
       "  </tbody>\n",
       "</table>\n",
       "</div>"
      ],
      "text/plain": [
       "       TEAM_CITY  TEAM_NAME    PTS\n",
       "0   Golden State   Warriors  114.9\n",
       "1    San Antonio      Spurs  103.5\n",
       "2      Cleveland  Cavaliers  104.3\n",
       "3    Los Angeles   Clippers  104.5\n",
       "4  Oklahoma City    Thunder  110.2"
      ]
     },
     "metadata": {},
     "output_type": "display_data"
    }
   ],
   "source": [
    "# Select only the desired columns and create a copy of the new DataFrame\n",
    "team_analysis_df = nba_df[['TEAM_CITY', 'TEAM_NAME', 'PTS']].copy()\n",
    "\n",
    "print(\"DataFrame filtered to only display TEAM_CITY, TEAM_NAME, and PTS.\")\n",
    "display(team_analysis_df.head())"
   ]
  },
  {
   "cell_type": "markdown",
   "metadata": {},
   "source": [
    "### Calculate Average Points (Average_PTS)\n",
    "We calculate a single scalar value—the average points—which will be used as the baseline for our analysis."
   ]
  },
  {
   "cell_type": "code",
   "execution_count": 7,
   "metadata": {},
   "outputs": [
    {
     "name": "stdout",
     "output_type": "stream",
     "text": [
      "Calculated Average Points (Average_PTS) across all teams: 102.66\n"
     ]
    }
   ],
   "source": [
    "# Calculate the Average_PTS across all teams using the .mean() method\n",
    "average_pts = team_analysis_df['PTS'].mean()\n",
    "\n",
    "print(f\"Calculated Average Points (Average_PTS) across all teams: {average_pts:.2f}\")"
   ]
  },
  {
   "cell_type": "markdown",
   "metadata": {},
   "source": [
    "### Calculate the Delta Column\n",
    "This demonstrates vectorization in Pandas by subtracting the single scalar (average_pts) from the entire PTS column at once."
   ]
  },
  {
   "cell_type": "code",
   "execution_count": 8,
   "metadata": {},
   "outputs": [
    {
     "name": "stdout",
     "output_type": "stream",
     "text": [
      "New 'Delta' column created.\n"
     ]
    },
    {
     "data": {
      "text/html": [
       "<div>\n",
       "<style scoped>\n",
       "    .dataframe tbody tr th:only-of-type {\n",
       "        vertical-align: middle;\n",
       "    }\n",
       "\n",
       "    .dataframe tbody tr th {\n",
       "        vertical-align: top;\n",
       "    }\n",
       "\n",
       "    .dataframe thead th {\n",
       "        text-align: right;\n",
       "    }\n",
       "</style>\n",
       "<table border=\"1\" class=\"dataframe\">\n",
       "  <thead>\n",
       "    <tr style=\"text-align: right;\">\n",
       "      <th></th>\n",
       "      <th>TEAM_CITY</th>\n",
       "      <th>TEAM_NAME</th>\n",
       "      <th>PTS</th>\n",
       "      <th>Delta</th>\n",
       "    </tr>\n",
       "  </thead>\n",
       "  <tbody>\n",
       "    <tr>\n",
       "      <th>0</th>\n",
       "      <td>Golden State</td>\n",
       "      <td>Warriors</td>\n",
       "      <td>114.9</td>\n",
       "      <td>12.24</td>\n",
       "    </tr>\n",
       "    <tr>\n",
       "      <th>1</th>\n",
       "      <td>San Antonio</td>\n",
       "      <td>Spurs</td>\n",
       "      <td>103.5</td>\n",
       "      <td>0.84</td>\n",
       "    </tr>\n",
       "    <tr>\n",
       "      <th>2</th>\n",
       "      <td>Cleveland</td>\n",
       "      <td>Cavaliers</td>\n",
       "      <td>104.3</td>\n",
       "      <td>1.64</td>\n",
       "    </tr>\n",
       "    <tr>\n",
       "      <th>3</th>\n",
       "      <td>Los Angeles</td>\n",
       "      <td>Clippers</td>\n",
       "      <td>104.5</td>\n",
       "      <td>1.84</td>\n",
       "    </tr>\n",
       "    <tr>\n",
       "      <th>4</th>\n",
       "      <td>Oklahoma City</td>\n",
       "      <td>Thunder</td>\n",
       "      <td>110.2</td>\n",
       "      <td>7.54</td>\n",
       "    </tr>\n",
       "  </tbody>\n",
       "</table>\n",
       "</div>"
      ],
      "text/plain": [
       "       TEAM_CITY  TEAM_NAME    PTS  Delta\n",
       "0   Golden State   Warriors  114.9  12.24\n",
       "1    San Antonio      Spurs  103.5   0.84\n",
       "2      Cleveland  Cavaliers  104.3   1.64\n",
       "3    Los Angeles   Clippers  104.5   1.84\n",
       "4  Oklahoma City    Thunder  110.2   7.54"
      ]
     },
     "metadata": {},
     "output_type": "display_data"
    }
   ],
   "source": [
    "# Create the Delta column: PTS - Average_PTS\n",
    "# This shows how much each team scored above (positive) or below (negative) the league average.\n",
    "team_analysis_df['Delta'] = team_analysis_df['PTS'] - average_pts\n",
    "\n",
    "print(\"New 'Delta' column created.\")\n",
    "display(team_analysis_df.head())"
   ]
  },
  {
   "cell_type": "markdown",
   "metadata": {},
   "source": [
    "---"
   ]
  },
  {
   "cell_type": "markdown",
   "metadata": {},
   "source": [
    "## Output and Load"
   ]
  },
  {
   "cell_type": "markdown",
   "metadata": {
    "tags": []
   },
   "source": [
    "### Sort and Finalize\n",
    "We sort the DataFrame by the new Delta column to clearly show the best and worst performing teams relative to the average."
   ]
  },
  {
   "cell_type": "code",
   "execution_count": 9,
   "metadata": {},
   "outputs": [
    {
     "name": "stdout",
     "output_type": "stream",
     "text": [
      "DataFrame sorted by Delta (greatest difference above average first).\n"
     ]
    },
    {
     "data": {
      "text/html": [
       "<div>\n",
       "<style scoped>\n",
       "    .dataframe tbody tr th:only-of-type {\n",
       "        vertical-align: middle;\n",
       "    }\n",
       "\n",
       "    .dataframe tbody tr th {\n",
       "        vertical-align: top;\n",
       "    }\n",
       "\n",
       "    .dataframe thead th {\n",
       "        text-align: right;\n",
       "    }\n",
       "</style>\n",
       "<table border=\"1\" class=\"dataframe\">\n",
       "  <thead>\n",
       "    <tr style=\"text-align: right;\">\n",
       "      <th></th>\n",
       "      <th>TEAM_CITY</th>\n",
       "      <th>TEAM_NAME</th>\n",
       "      <th>PTS</th>\n",
       "      <th>Delta</th>\n",
       "    </tr>\n",
       "  </thead>\n",
       "  <tbody>\n",
       "    <tr>\n",
       "      <th>0</th>\n",
       "      <td>Golden State</td>\n",
       "      <td>Warriors</td>\n",
       "      <td>114.9</td>\n",
       "      <td>12.24</td>\n",
       "    </tr>\n",
       "    <tr>\n",
       "      <th>4</th>\n",
       "      <td>Oklahoma City</td>\n",
       "      <td>Thunder</td>\n",
       "      <td>110.2</td>\n",
       "      <td>7.54</td>\n",
       "    </tr>\n",
       "    <tr>\n",
       "      <th>8</th>\n",
       "      <td>Sacramento</td>\n",
       "      <td>Kings</td>\n",
       "      <td>106.7</td>\n",
       "      <td>4.04</td>\n",
       "    </tr>\n",
       "    <tr>\n",
       "      <th>6</th>\n",
       "      <td>Houston</td>\n",
       "      <td>Rockets</td>\n",
       "      <td>106.5</td>\n",
       "      <td>3.84</td>\n",
       "    </tr>\n",
       "    <tr>\n",
       "      <th>23</th>\n",
       "      <td>Boston</td>\n",
       "      <td>Celtics</td>\n",
       "      <td>105.6</td>\n",
       "      <td>2.94</td>\n",
       "    </tr>\n",
       "  </tbody>\n",
       "</table>\n",
       "</div>"
      ],
      "text/plain": [
       "        TEAM_CITY TEAM_NAME    PTS  Delta\n",
       "0    Golden State  Warriors  114.9  12.24\n",
       "4   Oklahoma City   Thunder  110.2   7.54\n",
       "8      Sacramento     Kings  106.7   4.04\n",
       "6         Houston   Rockets  106.5   3.84\n",
       "23         Boston   Celtics  105.6   2.94"
      ]
     },
     "metadata": {},
     "output_type": "display_data"
    }
   ],
   "source": [
    "# Sort the DataFrame from greatest to least based on the Delta column\n",
    "team_analysis_df = team_analysis_df.sort_values(by='Delta', ascending=False)\n",
    "\n",
    "print(\"DataFrame sorted by Delta (greatest difference above average first).\")\n",
    "display(team_analysis_df.head(5))"
   ]
  },
  {
   "cell_type": "markdown",
   "metadata": {},
   "source": [
    "### Export to CSV\n",
    "This is the final Load (L) phase, saving the cleaned and analyzed data to a persistent file."
   ]
  },
  {
   "cell_type": "code",
   "execution_count": 10,
   "metadata": {},
   "outputs": [
    {
     "name": "stdout",
     "output_type": "stream",
     "text": [
      "--- Analysis and Load Phase Complete ---\n",
      "Clean, analyzed data successfully exported to: nba_team_points_analysis_20250929_234803.csv\n"
     ]
    }
   ],
   "source": [
    "# Define the output filename\n",
    "timestamp = datetime.now().strftime(\"%Y%m%d_%H%M%S\")\n",
    "output_filename = f'nba_team_points_analysis_{timestamp}.csv'\n",
    "\n",
    "# Export the final DataFrame to a CSV file\n",
    "team_analysis_df.to_csv(output_filename, index=False)\n",
    "\n",
    "print(f\"--- Analysis and Load Phase Complete ---\")\n",
    "print(f\"Clean, analyzed data successfully exported to: {output_filename}\")"
   ]
  }
 ],
 "metadata": {
  "kernelspec": {
   "display_name": "Python 3",
   "language": "python",
   "name": "python3"
  },
  "language_info": {
   "codemirror_mode": {
    "name": "ipython",
    "version": 3
   },
   "file_extension": ".py",
   "mimetype": "text/x-python",
   "name": "python",
   "nbconvert_exporter": "python",
   "pygments_lexer": "ipython3",
   "version": "3.12.1"
  }
 },
 "nbformat": 4,
 "nbformat_minor": 4
}
